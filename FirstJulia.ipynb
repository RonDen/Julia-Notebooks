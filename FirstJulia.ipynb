{
 "cells": [
  {
   "cell_type": "code",
   "execution_count": 1,
   "metadata": {},
   "outputs": [
    {
     "data": {
      "text/plain": [
       "1×1 Array{Int64,2}:\n",
       " 2"
      ]
     },
     "metadata": {},
     "output_type": "display_data"
    },
    {
     "data": {
      "text/plain": [
       "2×2 Array{Int64,2}:\n",
       " 2  3\n",
       " 3  4"
      ]
     },
     "metadata": {},
     "output_type": "display_data"
    },
    {
     "data": {
      "text/plain": [
       "3×3 Array{Int64,2}:\n",
       " 2  3  4\n",
       " 3  4  5\n",
       " 4  5  6"
      ]
     },
     "metadata": {},
     "output_type": "display_data"
    },
    {
     "data": {
      "text/plain": [
       "4×4 Array{Int64,2}:\n",
       " 2  3  4  5\n",
       " 3  4  5  6\n",
       " 4  5  6  7\n",
       " 5  6  7  8"
      ]
     },
     "metadata": {},
     "output_type": "display_data"
    },
    {
     "data": {
      "text/plain": [
       "5×5 Array{Int64,2}:\n",
       " 2  3  4  5   6\n",
       " 3  4  5  6   7\n",
       " 4  5  6  7   8\n",
       " 5  6  7  8   9\n",
       " 6  7  8  9  10"
      ]
     },
     "metadata": {},
     "output_type": "display_data"
    },
    {
     "data": {
      "text/plain": [
       "6×6 Array{Int64,2}:\n",
       " 2  3  4   5   6   7\n",
       " 3  4  5   6   7   8\n",
       " 4  5  6   7   8   9\n",
       " 5  6  7   8   9  10\n",
       " 6  7  8   9  10  11\n",
       " 7  8  9  10  11  12"
      ]
     },
     "metadata": {},
     "output_type": "display_data"
    },
    {
     "data": {
      "text/plain": [
       "7×7 Array{Int64,2}:\n",
       " 2  3   4   5   6   7   8\n",
       " 3  4   5   6   7   8   9\n",
       " 4  5   6   7   8   9  10\n",
       " 5  6   7   8   9  10  11\n",
       " 6  7   8   9  10  11  12\n",
       " 7  8   9  10  11  12  13\n",
       " 8  9  10  11  12  13  14"
      ]
     },
     "metadata": {},
     "output_type": "display_data"
    },
    {
     "data": {
      "text/plain": [
       "8×8 Array{Int64,2}:\n",
       " 2   3   4   5   6   7   8   9\n",
       " 3   4   5   6   7   8   9  10\n",
       " 4   5   6   7   8   9  10  11\n",
       " 5   6   7   8   9  10  11  12\n",
       " 6   7   8   9  10  11  12  13\n",
       " 7   8   9  10  11  12  13  14\n",
       " 8   9  10  11  12  13  14  15\n",
       " 9  10  11  12  13  14  15  16"
      ]
     },
     "metadata": {},
     "output_type": "display_data"
    },
    {
     "data": {
      "text/plain": [
       "9×9 Array{Int64,2}:\n",
       "  2   3   4   5   6   7   8   9  10\n",
       "  3   4   5   6   7   8   9  10  11\n",
       "  4   5   6   7   8   9  10  11  12\n",
       "  5   6   7   8   9  10  11  12  13\n",
       "  6   7   8   9  10  11  12  13  14\n",
       "  7   8   9  10  11  12  13  14  15\n",
       "  8   9  10  11  12  13  14  15  16\n",
       "  9  10  11  12  13  14  15  16  17\n",
       " 10  11  12  13  14  15  16  17  18"
      ]
     },
     "metadata": {},
     "output_type": "display_data"
    },
    {
     "data": {
      "text/plain": [
       "10×10 Array{Int64,2}:\n",
       "  2   3   4   5   6   7   8   9  10  11\n",
       "  3   4   5   6   7   8   9  10  11  12\n",
       "  4   5   6   7   8   9  10  11  12  13\n",
       "  5   6   7   8   9  10  11  12  13  14\n",
       "  6   7   8   9  10  11  12  13  14  15\n",
       "  7   8   9  10  11  12  13  14  15  16\n",
       "  8   9  10  11  12  13  14  15  16  17\n",
       "  9  10  11  12  13  14  15  16  17  18\n",
       " 10  11  12  13  14  15  16  17  18  19\n",
       " 11  12  13  14  15  16  17  18  19  20"
      ]
     },
     "metadata": {},
     "output_type": "display_data"
    }
   ],
   "source": [
    "for n in 1: 10\n",
    "   A = [i + j for i in 1:n, j in 1:n]\n",
    "    display(A)\n",
    "end"
   ]
  },
  {
   "cell_type": "code",
   "execution_count": 5,
   "metadata": {},
   "outputs": [
    {
     "data": {
      "text/plain": [
       "Int64"
      ]
     },
     "execution_count": 5,
     "metadata": {},
     "output_type": "execute_result"
    }
   ],
   "source": [
    "m = 10\n",
    "typeof(m)"
   ]
  },
  {
   "cell_type": "code",
   "execution_count": 7,
   "metadata": {},
   "outputs": [
    {
     "data": {
      "text/plain": [
       "10×10 Array{Float64,2}:\n",
       " 0.0  0.0  0.0  0.0  0.0  0.0  0.0  0.0  0.0  0.0\n",
       " 0.0  0.0  0.0  0.0  0.0  0.0  0.0  0.0  0.0  0.0\n",
       " 0.0  0.0  0.0  0.0  0.0  0.0  0.0  0.0  0.0  0.0\n",
       " 0.0  0.0  0.0  0.0  0.0  0.0  0.0  0.0  0.0  0.0\n",
       " 0.0  0.0  0.0  0.0  0.0  0.0  0.0  0.0  0.0  0.0\n",
       " 0.0  0.0  0.0  0.0  0.0  0.0  0.0  0.0  0.0  0.0\n",
       " 0.0  0.0  0.0  0.0  0.0  0.0  0.0  0.0  0.0  0.0\n",
       " 0.0  0.0  0.0  0.0  0.0  0.0  0.0  0.0  0.0  0.0\n",
       " 0.0  0.0  0.0  0.0  0.0  0.0  0.0  0.0  0.0  0.0\n",
       " 0.0  0.0  0.0  0.0  0.0  0.0  0.0  0.0  0.0  0.0"
      ]
     },
     "execution_count": 7,
     "metadata": {},
     "output_type": "execute_result"
    }
   ],
   "source": [
    "n = 10\n",
    "B = zeros(m, n)"
   ]
  },
  {
   "cell_type": "code",
   "execution_count": 8,
   "metadata": {},
   "outputs": [],
   "source": [
    "for i in 1:m, j in 1:n\n",
    "    B[i,j] = i +j\n",
    "end"
   ]
  },
  {
   "cell_type": "code",
   "execution_count": 10,
   "metadata": {},
   "outputs": [
    {
     "data": {
      "text/plain": [
       "10×10 Array{Float64,2}:\n",
       "  2.0   3.0   4.0   5.0   6.0   7.0   8.0   9.0  10.0  11.0\n",
       "  3.0   4.0   5.0   6.0   7.0   8.0   9.0  10.0  11.0  12.0\n",
       "  4.0   5.0   6.0   7.0   8.0   9.0  10.0  11.0  12.0  13.0\n",
       "  5.0   6.0   7.0   8.0   9.0  10.0  11.0  12.0  13.0  14.0\n",
       "  6.0   7.0   8.0   9.0  10.0  11.0  12.0  13.0  14.0  15.0\n",
       "  7.0   8.0   9.0  10.0  11.0  12.0  13.0  14.0  15.0  16.0\n",
       "  8.0   9.0  10.0  11.0  12.0  13.0  14.0  15.0  16.0  17.0\n",
       "  9.0  10.0  11.0  12.0  13.0  14.0  15.0  16.0  17.0  18.0\n",
       " 10.0  11.0  12.0  13.0  14.0  15.0  16.0  17.0  18.0  19.0\n",
       " 11.0  12.0  13.0  14.0  15.0  16.0  17.0  18.0  19.0  20.0"
      ]
     },
     "execution_count": 10,
     "metadata": {},
     "output_type": "execute_result"
    }
   ],
   "source": [
    "B"
   ]
  },
  {
   "cell_type": "code",
   "execution_count": 11,
   "metadata": {},
   "outputs": [
    {
     "data": {
      "text/plain": [
       "\"luodeng\""
      ]
     },
     "execution_count": 11,
     "metadata": {},
     "output_type": "execute_result"
    }
   ],
   "source": [
    "name = \"luodeng\""
   ]
  },
  {
   "cell_type": "code",
   "execution_count": 12,
   "metadata": {},
   "outputs": [
    {
     "name": "stdout",
     "output_type": "stream",
     "text": [
      "My name is luodeng\n"
     ]
    }
   ],
   "source": [
    "println(\"My name is $name\")"
   ]
  },
  {
   "cell_type": "code",
   "execution_count": 13,
   "metadata": {},
   "outputs": [
    {
     "name": "stdout",
     "output_type": "stream",
     "text": [
      "My age is 20\n"
     ]
    }
   ],
   "source": [
    "age = 20\n",
    "println(\"My age is $age\")"
   ]
  },
  {
   "cell_type": "markdown",
   "metadata": {},
   "source": [
    "## Conditions"
   ]
  },
  {
   "cell_type": "code",
   "execution_count": 15,
   "metadata": {},
   "outputs": [
    {
     "name": "stdout",
     "output_type": "stream",
     "text": [
      "90 is greater than 3\n"
     ]
    }
   ],
   "source": [
    "x = 90\n",
    "y = 3\n",
    "if x > y\n",
    "    println(\"$x is greater than $y\")\n",
    "elseif y > x\n",
    "    println(\"$y is greater than $x\")\n",
    "else\n",
    "    println(\"$y is equal $x\")\n",
    "end"
   ]
  },
  {
   "cell_type": "code",
   "execution_count": 16,
   "metadata": {},
   "outputs": [
    {
     "name": "stdout",
     "output_type": "stream",
     "text": [
      "90 is greater than 3\n"
     ]
    }
   ],
   "source": [
    "(x > y) && println(\"$x is greater than $y\")"
   ]
  },
  {
   "cell_type": "code",
   "execution_count": 17,
   "metadata": {},
   "outputs": [
    {
     "data": {
      "text/plain": [
       "false"
      ]
     },
     "execution_count": 17,
     "metadata": {},
     "output_type": "execute_result"
    }
   ],
   "source": [
    "(x < y ) && println(\"$x is smaller than $y\")"
   ]
  },
  {
   "cell_type": "markdown",
   "metadata": {},
   "source": [
    "## Function"
   ]
  },
  {
   "cell_type": "code",
   "execution_count": 25,
   "metadata": {},
   "outputs": [
    {
     "data": {
      "text/plain": [
       "sayhi (generic function with 1 method)"
      ]
     },
     "execution_count": 25,
     "metadata": {},
     "output_type": "execute_result"
    }
   ],
   "source": [
    "function sayhi(name)\n",
    "     println(\"Hi $name it is nice to meet you!\")\n",
    "end"
   ]
  },
  {
   "cell_type": "code",
   "execution_count": 26,
   "metadata": {},
   "outputs": [
    {
     "name": "stdout",
     "output_type": "stream",
     "text": [
      "Hi luodeng it is nice to meet you!\n"
     ]
    }
   ],
   "source": [
    "sayhi(name)"
   ]
  },
  {
   "cell_type": "code",
   "execution_count": 27,
   "metadata": {},
   "outputs": [
    {
     "data": {
      "text/plain": [
       "f (generic function with 1 method)"
      ]
     },
     "execution_count": 27,
     "metadata": {},
     "output_type": "execute_result"
    }
   ],
   "source": [
    "function f(x)\n",
    "    x^2\n",
    "end"
   ]
  },
  {
   "cell_type": "code",
   "execution_count": 29,
   "metadata": {},
   "outputs": [
    {
     "data": {
      "text/plain": [
       "16"
      ]
     },
     "execution_count": 29,
     "metadata": {},
     "output_type": "execute_result"
    }
   ],
   "source": [
    "f(4)"
   ]
  },
  {
   "cell_type": "code",
   "execution_count": 31,
   "metadata": {},
   "outputs": [
    {
     "name": "stdout",
     "output_type": "stream",
     "text": [
      "The Equation 4^2 = 16\n"
     ]
    }
   ],
   "source": [
    "println(\"The Equation 4^2 = $(f(4))\")"
   ]
  },
  {
   "cell_type": "markdown",
   "metadata": {},
   "source": [
    "We can declare the function in a single line, so without the `end` sambol"
   ]
  },
  {
   "cell_type": "code",
   "execution_count": 32,
   "metadata": {},
   "outputs": [
    {
     "data": {
      "text/plain": [
       "sayhi (generic function with 1 method)"
      ]
     },
     "execution_count": 32,
     "metadata": {},
     "output_type": "execute_result"
    }
   ],
   "source": [
    "sayhi(name) = println(\"Hi $name, it is nice to meet you!\")"
   ]
  },
  {
   "cell_type": "code",
   "execution_count": 33,
   "metadata": {},
   "outputs": [
    {
     "name": "stdout",
     "output_type": "stream",
     "text": [
      "Hi luodeng, it is nice to meet you!\n"
     ]
    }
   ],
   "source": [
    "sayhi(name)"
   ]
  },
  {
   "cell_type": "code",
   "execution_count": 34,
   "metadata": {},
   "outputs": [
    {
     "data": {
      "text/plain": [
       "f (generic function with 1 method)"
      ]
     },
     "execution_count": 34,
     "metadata": {},
     "output_type": "execute_result"
    }
   ],
   "source": [
    "f(x) = x^2"
   ]
  },
  {
   "cell_type": "code",
   "execution_count": 35,
   "metadata": {},
   "outputs": [
    {
     "data": {
      "text/plain": [
       "1764"
      ]
     },
     "execution_count": 35,
     "metadata": {},
     "output_type": "execute_result"
    }
   ],
   "source": [
    "f(42)"
   ]
  },
  {
   "cell_type": "markdown",
   "metadata": {},
   "source": [
    "Apart from this, we can declared the `anonymous funtion`"
   ]
  },
  {
   "cell_type": "code",
   "execution_count": 38,
   "metadata": {},
   "outputs": [
    {
     "data": {
      "text/plain": [
       "(::#7) (generic function with 1 method)"
      ]
     },
     "execution_count": 38,
     "metadata": {},
     "output_type": "execute_result"
    }
   ],
   "source": [
    "sayhi3 = name->println(\"Hi $name, it is nice to meet you!\")"
   ]
  },
  {
   "cell_type": "code",
   "execution_count": 39,
   "metadata": {},
   "outputs": [
    {
     "data": {
      "text/plain": [
       "(::#9) (generic function with 1 method)"
      ]
     },
     "execution_count": 39,
     "metadata": {},
     "output_type": "execute_result"
    }
   ],
   "source": [
    "f3 = x-> x^2"
   ]
  },
  {
   "cell_type": "code",
   "execution_count": 41,
   "metadata": {},
   "outputs": [
    {
     "data": {
      "text/plain": [
       "1764"
      ]
     },
     "execution_count": 41,
     "metadata": {},
     "output_type": "execute_result"
    }
   ],
   "source": [
    "f3(42)"
   ]
  },
  {
   "cell_type": "code",
   "execution_count": 42,
   "metadata": {},
   "outputs": [
    {
     "name": "stdout",
     "output_type": "stream",
     "text": [
      "Hi luodeng, it is nice to meet you!\n"
     ]
    }
   ],
   "source": [
    "sayhi3(name)"
   ]
  },
  {
   "cell_type": "markdown",
   "metadata": {},
   "source": [
    "### Duck-typing in Julia\n",
    "\n",
    "\"If it quacks like a duck, then it is a duck\""
   ]
  },
  {
   "cell_type": "code",
   "execution_count": 43,
   "metadata": {},
   "outputs": [
    {
     "name": "stdout",
     "output_type": "stream",
     "text": [
      "Hi 99999, it is nice to meet you!\n"
     ]
    }
   ],
   "source": [
    "sayhi(99999)"
   ]
  },
  {
   "cell_type": "code",
   "execution_count": 44,
   "metadata": {},
   "outputs": [
    {
     "data": {
      "text/plain": [
       "3×3 Array{Float64,2}:\n",
       " 0.904492  0.140736   0.991933 \n",
       " 0.315818  0.154776   0.0686535\n",
       " 0.980843  0.0742665  0.888634 "
      ]
     },
     "execution_count": 44,
     "metadata": {},
     "output_type": "execute_result"
    }
   ],
   "source": [
    "A = rand(3, 3)"
   ]
  },
  {
   "cell_type": "code",
   "execution_count": 45,
   "metadata": {},
   "outputs": [
    {
     "data": {
      "text/plain": [
       "3×3 Array{Float64,2}:\n",
       " 1.83548   0.222745   1.78832 \n",
       " 0.401875  0.0735015  0.384904\n",
       " 1.78223   0.215531   1.7677  "
      ]
     },
     "execution_count": 45,
     "metadata": {},
     "output_type": "execute_result"
    }
   ],
   "source": [
    "f(A)"
   ]
  },
  {
   "cell_type": "code",
   "execution_count": 46,
   "metadata": {},
   "outputs": [
    {
     "data": {
      "text/plain": [
       "3-element Array{Float64,1}:\n",
       " 0.127685\n",
       " 0.845431\n",
       " 0.851998"
      ]
     },
     "execution_count": 46,
     "metadata": {},
     "output_type": "execute_result"
    }
   ],
   "source": [
    "v = rand(3)"
   ]
  },
  {
   "cell_type": "code",
   "execution_count": 47,
   "metadata": {},
   "outputs": [
    {
     "ename": "LoadError",
     "evalue": "\u001b[91mDimensionMismatch(\"Cannot multiply two vectors\")\u001b[39m",
     "output_type": "error",
     "traceback": [
      "\u001b[91mDimensionMismatch(\"Cannot multiply two vectors\")\u001b[39m",
      "",
      "Stacktrace:",
      " [1] \u001b[1mpower_by_squaring\u001b[22m\u001b[22m\u001b[1m(\u001b[22m\u001b[22m::Array{Float64,1}, ::Int64\u001b[1m)\u001b[22m\u001b[22m at \u001b[1m.\\intfuncs.jl:169\u001b[22m\u001b[22m",
      " [2] \u001b[1mf\u001b[22m\u001b[22m\u001b[1m(\u001b[22m\u001b[22m::Array{Float64,1}\u001b[1m)\u001b[22m\u001b[22m at \u001b[1m.\\In[34]:1\u001b[22m\u001b[22m"
     ]
    }
   ],
   "source": [
    "f(v)"
   ]
  },
  {
   "cell_type": "code",
   "execution_count": 48,
   "metadata": {},
   "outputs": [
    {
     "data": {
      "text/plain": [
       "3×4 Array{Float64,2}:\n",
       " 0.385579   0.146067  0.772565  0.673754\n",
       " 0.0577271  0.219787  0.77196   0.699541\n",
       " 0.607734   0.363019  0.971724  0.898295"
      ]
     },
     "execution_count": 48,
     "metadata": {},
     "output_type": "execute_result"
    }
   ],
   "source": [
    "B = rand(3, 4)"
   ]
  },
  {
   "cell_type": "code",
   "execution_count": 49,
   "metadata": {},
   "outputs": [
    {
     "ename": "LoadError",
     "evalue": "\u001b[91mDimensionMismatch(\"A has dimensions (3,4) but B has dimensions (3,4)\")\u001b[39m",
     "output_type": "error",
     "traceback": [
      "\u001b[91mDimensionMismatch(\"A has dimensions (3,4) but B has dimensions (3,4)\")\u001b[39m",
      "",
      "Stacktrace:",
      " [1] \u001b[1mgemm_wrapper!\u001b[22m\u001b[22m\u001b[1m(\u001b[22m\u001b[22m::Array{Float64,2}, ::Char, ::Char, ::Array{Float64,2}, ::Array{Float64,2}\u001b[1m)\u001b[22m\u001b[22m at \u001b[1m.\\linalg\\matmul.jl:345\u001b[22m\u001b[22m",
      " [2] \u001b[1mpower_by_squaring\u001b[22m\u001b[22m\u001b[1m(\u001b[22m\u001b[22m::Array{Float64,2}, ::Int64\u001b[1m)\u001b[22m\u001b[22m at \u001b[1m.\\intfuncs.jl:169\u001b[22m\u001b[22m",
      " [3] \u001b[1m^\u001b[22m\u001b[22m at \u001b[1m.\\linalg\\dense.jl:332\u001b[22m\u001b[22m [inlined]",
      " [4] \u001b[1mliteral_pow\u001b[22m\u001b[22m at \u001b[1m.\\intfuncs.jl:208\u001b[22m\u001b[22m [inlined]",
      " [5] \u001b[1mf\u001b[22m\u001b[22m\u001b[1m(\u001b[22m\u001b[22m::Array{Float64,2}\u001b[1m)\u001b[22m\u001b[22m at \u001b[1m.\\In[34]:1\u001b[22m\u001b[22m"
     ]
    }
   ],
   "source": [
    "f(B)"
   ]
  },
  {
   "cell_type": "markdown",
   "metadata": {},
   "source": [
    "### Mutating vs. non-mutating functions\n",
    "\n",
    "Mutating function change the values you put into the function.\n",
    "\n",
    "While non-mutating function while not change the value you put into the function. Usually with the `!`"
   ]
  },
  {
   "cell_type": "code",
   "execution_count": 50,
   "metadata": {},
   "outputs": [
    {
     "data": {
      "text/plain": [
       "3-element Array{Int64,1}:\n",
       " 3\n",
       " 5\n",
       " 2"
      ]
     },
     "execution_count": 50,
     "metadata": {},
     "output_type": "execute_result"
    }
   ],
   "source": [
    "v = [3, 5, 2]"
   ]
  },
  {
   "cell_type": "code",
   "execution_count": 53,
   "metadata": {},
   "outputs": [
    {
     "name": "stdout",
     "output_type": "stream",
     "text": [
      "[3, 5, 2]\n",
      "[2, 3, 5]\n"
     ]
    }
   ],
   "source": [
    "sort(v)\n",
    "println(v)\n",
    "sort!(v)\n",
    "println(v)"
   ]
  },
  {
   "cell_type": "code",
   "execution_count": 52,
   "metadata": {},
   "outputs": [
    {
     "data": {
      "text/plain": [
       "3-element Array{Int64,1}:\n",
       " 3\n",
       " 5\n",
       " 2"
      ]
     },
     "execution_count": 52,
     "metadata": {},
     "output_type": "execute_result"
    }
   ],
   "source": [
    "v"
   ]
  },
  {
   "cell_type": "markdown",
   "metadata": {},
   "source": [
    "## Broadcasting\n",
    "\n",
    "By placing a `.` between any function name and its arguments list, we tell the function to broadcast over the elements of the input objects.\n",
    "\n",
    "Let's look at the different behaviors between `f()` and `f.()` "
   ]
  },
  {
   "cell_type": "code",
   "execution_count": 54,
   "metadata": {},
   "outputs": [
    {
     "data": {
      "text/plain": [
       "3×3 Array{Int64,2}:\n",
       " 1  2  3\n",
       " 4  5  6\n",
       " 7  8  9"
      ]
     },
     "execution_count": 54,
     "metadata": {},
     "output_type": "execute_result"
    }
   ],
   "source": [
    "A = [i + 3*j for j in 0:2, i in 1:3]"
   ]
  },
  {
   "cell_type": "code",
   "execution_count": 57,
   "metadata": {},
   "outputs": [
    {
     "data": {
      "text/plain": [
       "3×3 Array{Int64,2}:\n",
       "  30   36   42\n",
       "  66   81   96\n",
       " 102  126  150"
      ]
     },
     "execution_count": 57,
     "metadata": {},
     "output_type": "execute_result"
    }
   ],
   "source": [
    "f(A)\n",
    "# here is the matrix product"
   ]
  },
  {
   "cell_type": "code",
   "execution_count": 58,
   "metadata": {},
   "outputs": [
    {
     "data": {
      "text/plain": [
       "3×3 Array{Int64,2}:\n",
       "  1   4   9\n",
       " 16  25  36\n",
       " 49  64  81"
      ]
     },
     "execution_count": 58,
     "metadata": {},
     "output_type": "execute_result"
    }
   ],
   "source": [
    "f.(A)\n",
    "# here is the broadcast on each element in A"
   ]
  },
  {
   "cell_type": "code",
   "execution_count": 64,
   "metadata": {},
   "outputs": [],
   "source": [
    "using Colors"
   ]
  },
  {
   "cell_type": "code",
   "execution_count": 65,
   "metadata": {},
   "outputs": [
    {
     "data": {
      "image/svg+xml": [
       "<?xml version=\"1.0\" encoding=\"UTF-8\"?>\n",
       "<!DOCTYPE svg PUBLIC \"-//W3C//DTD SVG 1.1//EN\"\n",
       " \"http://www.w3.org/Graphics/SVG/1.1/DTD/svg11.dtd\">\n",
       "<svg xmlns=\"http://www.w3.org/2000/svg\" version=\"1.1\"\n",
       "     width=\"180.0mm\" height=\"24.999999999999996mm\"\n",
       "     shape-rendering=\"crispEdges\">\n",
       "<rect x=\"0.0mm\" y=\"0.0mm\"\n",
       "      width=\"1.8mm\" height=\"23.999999999999996mm\"\n",
       "      fill=\"#000000\" stroke=\"none\" />\n",
       "<rect x=\"1.8mm\" y=\"0.0mm\"\n",
       "      width=\"1.8mm\" height=\"23.999999999999996mm\"\n",
       "      fill=\"#FFFF62\" stroke=\"none\" />\n",
       "<rect x=\"3.6mm\" y=\"0.0mm\"\n",
       "      width=\"1.8mm\" height=\"23.999999999999996mm\"\n",
       "      fill=\"#FF9FFF\" stroke=\"none\" />\n",
       "<rect x=\"5.4mm\" y=\"0.0mm\"\n",
       "      width=\"1.8mm\" height=\"23.999999999999996mm\"\n",
       "      fill=\"#00D6FF\" stroke=\"none\" />\n",
       "<rect x=\"7.2mm\" y=\"0.0mm\"\n",
       "      width=\"1.8mm\" height=\"23.999999999999996mm\"\n",
       "      fill=\"#D74400\" stroke=\"none\" />\n",
       "<rect x=\"9.0mm\" y=\"0.0mm\"\n",
       "      width=\"1.8mm\" height=\"23.999999999999996mm\"\n",
       "      fill=\"#008029\" stroke=\"none\" />\n",
       "<rect x=\"10.8mm\" y=\"0.0mm\"\n",
       "      width=\"1.8mm\" height=\"23.999999999999996mm\"\n",
       "      fill=\"#005FD5\" stroke=\"none\" />\n",
       "<rect x=\"12.6mm\" y=\"0.0mm\"\n",
       "      width=\"1.8mm\" height=\"23.999999999999996mm\"\n",
       "      fill=\"#930068\" stroke=\"none\" />\n",
       "<rect x=\"14.4mm\" y=\"0.0mm\"\n",
       "      width=\"1.8mm\" height=\"23.999999999999996mm\"\n",
       "      fill=\"#FFCBB5\" stroke=\"none\" />\n",
       "<rect x=\"16.2mm\" y=\"0.0mm\"\n",
       "      width=\"1.8mm\" height=\"23.999999999999996mm\"\n",
       "      fill=\"#A78600\" stroke=\"none\" />\n",
       "<rect x=\"18.0mm\" y=\"0.0mm\"\n",
       "      width=\"1.8mm\" height=\"23.999999999999996mm\"\n",
       "      fill=\"#00FFC5\" stroke=\"none\" />\n",
       "<rect x=\"19.8mm\" y=\"0.0mm\"\n",
       "      width=\"1.8mm\" height=\"23.999999999999996mm\"\n",
       "      fill=\"#007E86\" stroke=\"none\" />\n",
       "<rect x=\"21.6mm\" y=\"0.0mm\"\n",
       "      width=\"1.8mm\" height=\"23.999999999999996mm\"\n",
       "      fill=\"#534200\" stroke=\"none\" />\n",
       "<rect x=\"23.400000000000002mm\" y=\"0.0mm\"\n",
       "      width=\"1.8mm\" height=\"23.999999999999996mm\"\n",
       "      fill=\"#8C8793\" stroke=\"none\" />\n",
       "<rect x=\"25.2mm\" y=\"0.0mm\"\n",
       "      width=\"1.8mm\" height=\"23.999999999999996mm\"\n",
       "      fill=\"#680000\" stroke=\"none\" />\n",
       "<rect x=\"27.0mm\" y=\"0.0mm\"\n",
       "      width=\"1.8mm\" height=\"23.999999999999996mm\"\n",
       "      fill=\"#00005A\" stroke=\"none\" />\n",
       "<rect x=\"28.8mm\" y=\"0.0mm\"\n",
       "      width=\"1.8mm\" height=\"23.999999999999996mm\"\n",
       "      fill=\"#FF2C6F\" stroke=\"none\" />\n",
       "<rect x=\"30.6mm\" y=\"0.0mm\"\n",
       "      width=\"1.8mm\" height=\"23.999999999999996mm\"\n",
       "      fill=\"#F7FFF6\" stroke=\"none\" />\n",
       "<rect x=\"32.4mm\" y=\"0.0mm\"\n",
       "      width=\"1.8mm\" height=\"23.999999999999996mm\"\n",
       "      fill=\"#003D25\" stroke=\"none\" />\n",
       "<rect x=\"34.2mm\" y=\"0.0mm\"\n",
       "      width=\"1.8mm\" height=\"23.999999999999996mm\"\n",
       "      fill=\"#91ABFF\" stroke=\"none\" />\n",
       "<rect x=\"36.0mm\" y=\"0.0mm\"\n",
       "      width=\"1.8mm\" height=\"23.999999999999996mm\"\n",
       "      fill=\"#A1B684\" stroke=\"none\" />\n",
       "<rect x=\"37.800000000000004mm\" y=\"0.0mm\"\n",
       "      width=\"1.8mm\" height=\"23.999999999999996mm\"\n",
       "      fill=\"#605051\" stroke=\"none\" />\n",
       "<rect x=\"39.6mm\" y=\"0.0mm\"\n",
       "      width=\"1.8mm\" height=\"23.999999999999996mm\"\n",
       "      fill=\"#C129E2\" stroke=\"none\" />\n",
       "<rect x=\"41.4mm\" y=\"0.0mm\"\n",
       "      width=\"1.8mm\" height=\"23.999999999999996mm\"\n",
       "      fill=\"#FF8E1E\" stroke=\"none\" />\n",
       "<rect x=\"43.2mm\" y=\"0.0mm\"\n",
       "      width=\"1.8mm\" height=\"23.999999999999996mm\"\n",
       "      fill=\"#003F51\" stroke=\"none\" />\n",
       "<rect x=\"45.0mm\" y=\"0.0mm\"\n",
       "      width=\"1.8mm\" height=\"23.999999999999996mm\"\n",
       "      fill=\"#797860\" stroke=\"none\" />\n",
       "<rect x=\"46.800000000000004mm\" y=\"0.0mm\"\n",
       "      width=\"1.8mm\" height=\"23.999999999999996mm\"\n",
       "      fill=\"#2E001C\" stroke=\"none\" />\n",
       "<rect x=\"48.6mm\" y=\"0.0mm\"\n",
       "      width=\"1.8mm\" height=\"23.999999999999996mm\"\n",
       "      fill=\"#01AF99\" stroke=\"none\" />\n",
       "<rect x=\"50.4mm\" y=\"0.0mm\"\n",
       "      width=\"1.8mm\" height=\"23.999999999999996mm\"\n",
       "      fill=\"#FFE6FF\" stroke=\"none\" />\n",
       "<rect x=\"52.2mm\" y=\"0.0mm\"\n",
       "      width=\"1.8mm\" height=\"23.999999999999996mm\"\n",
       "      fill=\"#77DA00\" stroke=\"none\" />\n",
       "<rect x=\"54.0mm\" y=\"0.0mm\"\n",
       "      width=\"1.8mm\" height=\"23.999999999999996mm\"\n",
       "      fill=\"#5B4B83\" stroke=\"none\" />\n",
       "<rect x=\"55.800000000000004mm\" y=\"0.0mm\"\n",
       "      width=\"1.8mm\" height=\"23.999999999999996mm\"\n",
       "      fill=\"#0094CF\" stroke=\"none\" />\n",
       "<rect x=\"57.6mm\" y=\"0.0mm\"\n",
       "      width=\"1.8mm\" height=\"23.999999999999996mm\"\n",
       "      fill=\"#B8739F\" stroke=\"none\" />\n",
       "<rect x=\"59.4mm\" y=\"0.0mm\"\n",
       "      width=\"1.8mm\" height=\"23.999999999999996mm\"\n",
       "      fill=\"#FF8269\" stroke=\"none\" />\n",
       "<rect x=\"61.2mm\" y=\"0.0mm\"\n",
       "      width=\"1.8mm\" height=\"23.999999999999996mm\"\n",
       "      fill=\"#FFBE05\" stroke=\"none\" />\n",
       "<rect x=\"63.0mm\" y=\"0.0mm\"\n",
       "      width=\"1.8mm\" height=\"23.999999999999996mm\"\n",
       "      fill=\"#C20030\" stroke=\"none\" />\n",
       "<rect x=\"64.8mm\" y=\"0.0mm\"\n",
       "      width=\"1.8mm\" height=\"23.999999999999996mm\"\n",
       "      fill=\"#A9806C\" stroke=\"none\" />\n",
       "<rect x=\"66.60000000000001mm\" y=\"0.0mm\"\n",
       "      width=\"1.8mm\" height=\"23.999999999999996mm\"\n",
       "      fill=\"#955600\" stroke=\"none\" />\n",
       "<rect x=\"68.4mm\" y=\"0.0mm\"\n",
       "      width=\"1.8mm\" height=\"23.999999999999996mm\"\n",
       "      fill=\"#9FB3B2\" stroke=\"none\" />\n",
       "<rect x=\"70.2mm\" y=\"0.0mm\"\n",
       "      width=\"1.8mm\" height=\"23.999999999999996mm\"\n",
       "      fill=\"#789500\" stroke=\"none\" />\n",
       "<rect x=\"72.0mm\" y=\"0.0mm\"\n",
       "      width=\"1.8mm\" height=\"23.999999999999996mm\"\n",
       "      fill=\"#FF9BB1\" stroke=\"none\" />\n",
       "<rect x=\"73.8mm\" y=\"0.0mm\"\n",
       "      width=\"1.8mm\" height=\"23.999999999999996mm\"\n",
       "      fill=\"#A8FFFD\" stroke=\"none\" />\n",
       "<rect x=\"75.60000000000001mm\" y=\"0.0mm\"\n",
       "      width=\"1.8mm\" height=\"23.999999999999996mm\"\n",
       "      fill=\"#2023C8\" stroke=\"none\" />\n",
       "<rect x=\"77.4mm\" y=\"0.0mm\"\n",
       "      width=\"1.8mm\" height=\"23.999999999999996mm\"\n",
       "      fill=\"#937BD2\" stroke=\"none\" />\n",
       "<rect x=\"79.2mm\" y=\"0.0mm\"\n",
       "      width=\"1.8mm\" height=\"23.999999999999996mm\"\n",
       "      fill=\"#FFE8B4\" stroke=\"none\" />\n",
       "<rect x=\"81.0mm\" y=\"0.0mm\"\n",
       "      width=\"1.8mm\" height=\"23.999999999999996mm\"\n",
       "      fill=\"#4A5750\" stroke=\"none\" />\n",
       "<rect x=\"82.8mm\" y=\"0.0mm\"\n",
       "      width=\"1.8mm\" height=\"23.999999999999996mm\"\n",
       "      fill=\"#636B05\" stroke=\"none\" />\n",
       "<rect x=\"84.60000000000001mm\" y=\"0.0mm\"\n",
       "      width=\"1.8mm\" height=\"23.999999999999996mm\"\n",
       "      fill=\"#2C1300\" stroke=\"none\" />\n",
       "<rect x=\"86.4mm\" y=\"0.0mm\"\n",
       "      width=\"1.8mm\" height=\"23.999999999999996mm\"\n",
       "      fill=\"#00BC62\" stroke=\"none\" />\n",
       "<rect x=\"88.2mm\" y=\"0.0mm\"\n",
       "      width=\"1.8mm\" height=\"23.999999999999996mm\"\n",
       "      fill=\"#CFE6FF\" stroke=\"none\" />\n",
       "<rect x=\"90.0mm\" y=\"0.0mm\"\n",
       "      width=\"1.8mm\" height=\"23.999999999999996mm\"\n",
       "      fill=\"#915266\" stroke=\"none\" />\n",
       "<rect x=\"91.8mm\" y=\"0.0mm\"\n",
       "      width=\"1.8mm\" height=\"23.999999999999996mm\"\n",
       "      fill=\"#C9F6C9\" stroke=\"none\" />\n",
       "<rect x=\"93.60000000000001mm\" y=\"0.0mm\"\n",
       "      width=\"1.8mm\" height=\"23.999999999999996mm\"\n",
       "      fill=\"#B6A9CF\" stroke=\"none\" />\n",
       "<rect x=\"95.4mm\" y=\"0.0mm\"\n",
       "      width=\"1.8mm\" height=\"23.999999999999996mm\"\n",
       "      fill=\"#2E3248\" stroke=\"none\" />\n",
       "<rect x=\"97.2mm\" y=\"0.0mm\"\n",
       "      width=\"1.8mm\" height=\"23.999999999999996mm\"\n",
       "      fill=\"#BBACA5\" stroke=\"none\" />\n",
       "<rect x=\"99.0mm\" y=\"0.0mm\"\n",
       "      width=\"1.8mm\" height=\"23.999999999999996mm\"\n",
       "      fill=\"#006B50\" stroke=\"none\" />\n",
       "<rect x=\"100.8mm\" y=\"0.0mm\"\n",
       "      width=\"1.8mm\" height=\"23.999999999999996mm\"\n",
       "      fill=\"#383329\" stroke=\"none\" />\n",
       "<rect x=\"102.60000000000001mm\" y=\"0.0mm\"\n",
       "      width=\"1.8mm\" height=\"23.999999999999996mm\"\n",
       "      fill=\"#C5AD6D\" stroke=\"none\" />\n",
       "<rect x=\"104.4mm\" y=\"0.0mm\"\n",
       "      width=\"1.8mm\" height=\"23.999999999999996mm\"\n",
       "      fill=\"#005500\" stroke=\"none\" />\n",
       "<rect x=\"106.2mm\" y=\"0.0mm\"\n",
       "      width=\"1.8mm\" height=\"23.999999999999996mm\"\n",
       "      fill=\"#687A7E\" stroke=\"none\" />\n",
       "<rect x=\"108.0mm\" y=\"0.0mm\"\n",
       "      width=\"1.8mm\" height=\"23.999999999999996mm\"\n",
       "      fill=\"#FF4ED2\" stroke=\"none\" />\n",
       "<rect x=\"109.8mm\" y=\"0.0mm\"\n",
       "      width=\"1.8mm\" height=\"23.999999999999996mm\"\n",
       "      fill=\"#9A2F00\" stroke=\"none\" />\n",
       "<rect x=\"111.60000000000001mm\" y=\"0.0mm\"\n",
       "      width=\"1.8mm\" height=\"23.999999999999996mm\"\n",
       "      fill=\"#501D5B\" stroke=\"none\" />\n",
       "<rect x=\"113.4mm\" y=\"0.0mm\"\n",
       "      width=\"1.8mm\" height=\"23.999999999999996mm\"\n",
       "      fill=\"#0E1A00\" stroke=\"none\" />\n",
       "<rect x=\"115.2mm\" y=\"0.0mm\"\n",
       "      width=\"1.8mm\" height=\"23.999999999999996mm\"\n",
       "      fill=\"#0B001F\" stroke=\"none\" />\n",
       "<rect x=\"117.0mm\" y=\"0.0mm\"\n",
       "      width=\"1.8mm\" height=\"23.999999999999996mm\"\n",
       "      fill=\"#49A9B8\" stroke=\"none\" />\n",
       "<rect x=\"118.8mm\" y=\"0.0mm\"\n",
       "      width=\"1.8mm\" height=\"23.999999999999996mm\"\n",
       "      fill=\"#8200A5\" stroke=\"none\" />\n",
       "<rect x=\"120.60000000000001mm\" y=\"0.0mm\"\n",
       "      width=\"1.8mm\" height=\"23.999999999999996mm\"\n",
       "      fill=\"#609663\" stroke=\"none\" />\n",
       "<rect x=\"122.4mm\" y=\"0.0mm\"\n",
       "      width=\"1.8mm\" height=\"23.999999999999996mm\"\n",
       "      fill=\"#00397F\" stroke=\"none\" />\n",
       "<rect x=\"124.2mm\" y=\"0.0mm\"\n",
       "      width=\"1.8mm\" height=\"23.999999999999996mm\"\n",
       "      fill=\"#8E0037\" stroke=\"none\" />\n",
       "<rect x=\"126.0mm\" y=\"0.0mm\"\n",
       "      width=\"1.8mm\" height=\"23.999999999999996mm\"\n",
       "      fill=\"#643820\" stroke=\"none\" />\n",
       "<rect x=\"127.8mm\" y=\"0.0mm\"\n",
       "      width=\"1.8mm\" height=\"23.999999999999996mm\"\n",
       "      fill=\"#7558FF\" stroke=\"none\" />\n",
       "<rect x=\"129.6mm\" y=\"0.0mm\"\n",
       "      width=\"1.8mm\" height=\"23.999999999999996mm\"\n",
       "      fill=\"#006787\" stroke=\"none\" />\n",
       "<rect x=\"131.4mm\" y=\"0.0mm\"\n",
       "      width=\"1.8mm\" height=\"23.999999999999996mm\"\n",
       "      fill=\"#B75D4E\" stroke=\"none\" />\n",
       "<rect x=\"133.20000000000002mm\" y=\"0.0mm\"\n",
       "      width=\"1.8mm\" height=\"23.999999999999996mm\"\n",
       "      fill=\"#C3C958\" stroke=\"none\" />\n",
       "<rect x=\"135.0mm\" y=\"0.0mm\"\n",
       "      width=\"1.8mm\" height=\"23.999999999999996mm\"\n",
       "      fill=\"#D00068\" stroke=\"none\" />\n",
       "<rect x=\"136.8mm\" y=\"0.0mm\"\n",
       "      width=\"1.8mm\" height=\"23.999999999999996mm\"\n",
       "      fill=\"#51272B\" stroke=\"none\" />\n",
       "<rect x=\"138.6mm\" y=\"0.0mm\"\n",
       "      width=\"1.8mm\" height=\"23.999999999999996mm\"\n",
       "      fill=\"#7B6044\" stroke=\"none\" />\n",
       "<rect x=\"140.4mm\" y=\"0.0mm\"\n",
       "      width=\"1.8mm\" height=\"23.999999999999996mm\"\n",
       "      fill=\"#2E3A00\" stroke=\"none\" />\n",
       "<rect x=\"142.20000000000002mm\" y=\"0.0mm\"\n",
       "      width=\"1.8mm\" height=\"23.999999999999996mm\"\n",
       "      fill=\"#7AFF8B\" stroke=\"none\" />\n",
       "<rect x=\"144.0mm\" y=\"0.0mm\"\n",
       "      width=\"1.8mm\" height=\"23.999999999999996mm\"\n",
       "      fill=\"#4F85F6\" stroke=\"none\" />\n",
       "<rect x=\"145.8mm\" y=\"0.0mm\"\n",
       "      width=\"1.8mm\" height=\"23.999999999999996mm\"\n",
       "      fill=\"#C47800\" stroke=\"none\" />\n",
       "<rect x=\"147.6mm\" y=\"0.0mm\"\n",
       "      width=\"1.8mm\" height=\"23.999999999999996mm\"\n",
       "      fill=\"#B5939C\" stroke=\"none\" />\n",
       "<rect x=\"149.4mm\" y=\"0.0mm\"\n",
       "      width=\"1.8mm\" height=\"23.999999999999996mm\"\n",
       "      fill=\"#60647C\" stroke=\"none\" />\n",
       "<rect x=\"151.20000000000002mm\" y=\"0.0mm\"\n",
       "      width=\"1.8mm\" height=\"23.999999999999996mm\"\n",
       "      fill=\"#20D8D8\" stroke=\"none\" />\n",
       "<rect x=\"153.0mm\" y=\"0.0mm\"\n",
       "      width=\"1.8mm\" height=\"23.999999999999996mm\"\n",
       "      fill=\"#001B2C\" stroke=\"none\" />\n",
       "<rect x=\"154.8mm\" y=\"0.0mm\"\n",
       "      width=\"1.8mm\" height=\"23.999999999999996mm\"\n",
       "      fill=\"#002726\" stroke=\"none\" />\n",
       "<rect x=\"156.6mm\" y=\"0.0mm\"\n",
       "      width=\"1.8mm\" height=\"23.999999999999996mm\"\n",
       "      fill=\"#F8E7E0\" stroke=\"none\" />\n",
       "<rect x=\"158.4mm\" y=\"0.0mm\"\n",
       "      width=\"1.8mm\" height=\"23.999999999999996mm\"\n",
       "      fill=\"#7E6200\" stroke=\"none\" />\n",
       "<rect x=\"160.20000000000002mm\" y=\"0.0mm\"\n",
       "      width=\"1.8mm\" height=\"23.999999999999996mm\"\n",
       "      fill=\"#185D5D\" stroke=\"none\" />\n",
       "<rect x=\"162.0mm\" y=\"0.0mm\"\n",
       "      width=\"1.8mm\" height=\"23.999999999999996mm\"\n",
       "      fill=\"#008B74\" stroke=\"none\" />\n",
       "<rect x=\"163.8mm\" y=\"0.0mm\"\n",
       "      width=\"1.8mm\" height=\"23.999999999999996mm\"\n",
       "      fill=\"#FF3F37\" stroke=\"none\" />\n",
       "<rect x=\"165.6mm\" y=\"0.0mm\"\n",
       "      width=\"1.8mm\" height=\"23.999999999999996mm\"\n",
       "      fill=\"#BC9EFF\" stroke=\"none\" />\n",
       "<rect x=\"167.4mm\" y=\"0.0mm\"\n",
       "      width=\"1.8mm\" height=\"23.999999999999996mm\"\n",
       "      fill=\"#82746D\" stroke=\"none\" />\n",
       "<rect x=\"169.20000000000002mm\" y=\"0.0mm\"\n",
       "      width=\"1.8mm\" height=\"23.999999999999996mm\"\n",
       "      fill=\"#555633\" stroke=\"none\" />\n",
       "<rect x=\"171.0mm\" y=\"0.0mm\"\n",
       "      width=\"1.8mm\" height=\"23.999999999999996mm\"\n",
       "      fill=\"#54BDFF\" stroke=\"none\" />\n",
       "<rect x=\"172.8mm\" y=\"0.0mm\"\n",
       "      width=\"1.8mm\" height=\"23.999999999999996mm\"\n",
       "      fill=\"#CD38A2\" stroke=\"none\" />\n",
       "<rect x=\"174.6mm\" y=\"0.0mm\"\n",
       "      width=\"1.8mm\" height=\"23.999999999999996mm\"\n",
       "      fill=\"#81D3AC\" stroke=\"none\" />\n",
       "<rect x=\"176.4mm\" y=\"0.0mm\"\n",
       "      width=\"1.8mm\" height=\"23.999999999999996mm\"\n",
       "      fill=\"#8A6F80\" stroke=\"none\" />\n",
       "<rect x=\"178.20000000000002mm\" y=\"0.0mm\"\n",
       "      width=\"1.8mm\" height=\"23.999999999999996mm\"\n",
       "      fill=\"#F7B66A\" stroke=\"none\" />\n",
       "</svg>"
      ],
      "text/plain": [
       "100-element Array{ColorTypes.RGB{FixedPointNumbers.Normed{UInt8,8}},1}:\n",
       " RGB{N0f8}(0.0,0.0,0.0)      \n",
       " RGB{N0f8}(1.0,1.0,0.384)    \n",
       " RGB{N0f8}(1.0,0.624,1.0)    \n",
       " RGB{N0f8}(0.0,0.839,1.0)    \n",
       " RGB{N0f8}(0.843,0.267,0.0)  \n",
       " RGB{N0f8}(0.0,0.502,0.161)  \n",
       " RGB{N0f8}(0.0,0.373,0.835)  \n",
       " RGB{N0f8}(0.576,0.0,0.408)  \n",
       " RGB{N0f8}(1.0,0.796,0.71)   \n",
       " RGB{N0f8}(0.655,0.525,0.0)  \n",
       " RGB{N0f8}(0.0,1.0,0.773)    \n",
       " RGB{N0f8}(0.0,0.494,0.525)  \n",
       " RGB{N0f8}(0.325,0.259,0.0)  \n",
       " ⋮                           \n",
       " RGB{N0f8}(0.494,0.384,0.0)  \n",
       " RGB{N0f8}(0.094,0.365,0.365)\n",
       " RGB{N0f8}(0.0,0.545,0.455)  \n",
       " RGB{N0f8}(1.0,0.247,0.216)  \n",
       " RGB{N0f8}(0.737,0.62,1.0)   \n",
       " RGB{N0f8}(0.51,0.455,0.427) \n",
       " RGB{N0f8}(0.333,0.337,0.2)  \n",
       " RGB{N0f8}(0.329,0.741,1.0)  \n",
       " RGB{N0f8}(0.804,0.22,0.635) \n",
       " RGB{N0f8}(0.506,0.827,0.675)\n",
       " RGB{N0f8}(0.541,0.435,0.502)\n",
       " RGB{N0f8}(0.969,0.714,0.416)"
      ]
     },
     "execution_count": 65,
     "metadata": {},
     "output_type": "execute_result"
    }
   ],
   "source": [
    "palette = distinguishable_colors(100)"
   ]
  },
  {
   "cell_type": "code",
   "execution_count": 69,
   "metadata": {},
   "outputs": [
    {
     "data": {
      "image/svg+xml": [
       "<?xml version=\"1.0\" encoding=\"UTF-8\"?>\n",
       "<!DOCTYPE svg PUBLIC \"-//W3C//DTD SVG 1.1//EN\"\n",
       " \"http://www.w3.org/Graphics/SVG/1.1/DTD/svg11.dtd\">\n",
       "<svg xmlns=\"http://www.w3.org/2000/svg\" version=\"1.1\"\n",
       "     width=\"125.0mm\" height=\"125.0mm\"\n",
       "     shape-rendering=\"crispEdges\">\n",
       "<rect x=\"0.0mm\" y=\"0.0mm\"\n",
       "      width=\"24.0mm\" height=\"24.0mm\"\n",
       "      fill=\"#C3C958\" stroke=\"none\" />\n",
       "<rect x=\"25.0mm\" y=\"0.0mm\"\n",
       "      width=\"24.0mm\" height=\"24.0mm\"\n",
       "      fill=\"#51272B\" stroke=\"none\" />\n",
       "<rect x=\"50.0mm\" y=\"0.0mm\"\n",
       "      width=\"24.0mm\" height=\"24.0mm\"\n",
       "      fill=\"#8C8793\" stroke=\"none\" />\n",
       "<rect x=\"75.0mm\" y=\"0.0mm\"\n",
       "      width=\"24.0mm\" height=\"24.0mm\"\n",
       "      fill=\"#FF4ED2\" stroke=\"none\" />\n",
       "<rect x=\"100.0mm\" y=\"0.0mm\"\n",
       "      width=\"24.0mm\" height=\"24.0mm\"\n",
       "      fill=\"#005FD5\" stroke=\"none\" />\n",
       "<rect x=\"0.0mm\" y=\"25.0mm\"\n",
       "      width=\"24.0mm\" height=\"24.0mm\"\n",
       "      fill=\"#C9F6C9\" stroke=\"none\" />\n",
       "<rect x=\"25.0mm\" y=\"25.0mm\"\n",
       "      width=\"24.0mm\" height=\"24.0mm\"\n",
       "      fill=\"#A8FFFD\" stroke=\"none\" />\n",
       "<rect x=\"50.0mm\" y=\"25.0mm\"\n",
       "      width=\"24.0mm\" height=\"24.0mm\"\n",
       "      fill=\"#687A7E\" stroke=\"none\" />\n",
       "<rect x=\"75.0mm\" y=\"25.0mm\"\n",
       "      width=\"24.0mm\" height=\"24.0mm\"\n",
       "      fill=\"#00397F\" stroke=\"none\" />\n",
       "<rect x=\"100.0mm\" y=\"25.0mm\"\n",
       "      width=\"24.0mm\" height=\"24.0mm\"\n",
       "      fill=\"#00D6FF\" stroke=\"none\" />\n",
       "<rect x=\"0.0mm\" y=\"50.0mm\"\n",
       "      width=\"24.0mm\" height=\"24.0mm\"\n",
       "      fill=\"#F7FFF6\" stroke=\"none\" />\n",
       "<rect x=\"25.0mm\" y=\"50.0mm\"\n",
       "      width=\"24.0mm\" height=\"24.0mm\"\n",
       "      fill=\"#A9806C\" stroke=\"none\" />\n",
       "<rect x=\"50.0mm\" y=\"50.0mm\"\n",
       "      width=\"24.0mm\" height=\"24.0mm\"\n",
       "      fill=\"#C47800\" stroke=\"none\" />\n",
       "<rect x=\"75.0mm\" y=\"50.0mm\"\n",
       "      width=\"24.0mm\" height=\"24.0mm\"\n",
       "      fill=\"#955600\" stroke=\"none\" />\n",
       "<rect x=\"100.0mm\" y=\"50.0mm\"\n",
       "      width=\"24.0mm\" height=\"24.0mm\"\n",
       "      fill=\"#636B05\" stroke=\"none\" />\n",
       "<rect x=\"0.0mm\" y=\"75.0mm\"\n",
       "      width=\"24.0mm\" height=\"24.0mm\"\n",
       "      fill=\"#CFE6FF\" stroke=\"none\" />\n",
       "<rect x=\"25.0mm\" y=\"75.0mm\"\n",
       "      width=\"24.0mm\" height=\"24.0mm\"\n",
       "      fill=\"#C9F6C9\" stroke=\"none\" />\n",
       "<rect x=\"50.0mm\" y=\"75.0mm\"\n",
       "      width=\"24.0mm\" height=\"24.0mm\"\n",
       "      fill=\"#2E3A00\" stroke=\"none\" />\n",
       "<rect x=\"75.0mm\" y=\"75.0mm\"\n",
       "      width=\"24.0mm\" height=\"24.0mm\"\n",
       "      fill=\"#00BC62\" stroke=\"none\" />\n",
       "<rect x=\"100.0mm\" y=\"75.0mm\"\n",
       "      width=\"24.0mm\" height=\"24.0mm\"\n",
       "      fill=\"#51272B\" stroke=\"none\" />\n",
       "<rect x=\"0.0mm\" y=\"100.0mm\"\n",
       "      width=\"24.0mm\" height=\"24.0mm\"\n",
       "      fill=\"#915266\" stroke=\"none\" />\n",
       "<rect x=\"25.0mm\" y=\"100.0mm\"\n",
       "      width=\"24.0mm\" height=\"24.0mm\"\n",
       "      fill=\"#008B74\" stroke=\"none\" />\n",
       "<rect x=\"50.0mm\" y=\"100.0mm\"\n",
       "      width=\"24.0mm\" height=\"24.0mm\"\n",
       "      fill=\"#A8FFFD\" stroke=\"none\" />\n",
       "<rect x=\"75.0mm\" y=\"100.0mm\"\n",
       "      width=\"24.0mm\" height=\"24.0mm\"\n",
       "      fill=\"#77DA00\" stroke=\"none\" />\n",
       "<rect x=\"100.0mm\" y=\"100.0mm\"\n",
       "      width=\"24.0mm\" height=\"24.0mm\"\n",
       "      fill=\"#FFFF62\" stroke=\"none\" />\n",
       "</svg>"
      ],
      "text/plain": [
       "5×5 Array{ColorTypes.RGB{FixedPointNumbers.Normed{UInt8,8}},2}:\n",
       " RGB{N0f8}(0.765,0.788,0.345)  …  RGB{N0f8}(0.0,0.373,0.835)  \n",
       " RGB{N0f8}(0.788,0.965,0.788)     RGB{N0f8}(0.0,0.839,1.0)    \n",
       " RGB{N0f8}(0.969,1.0,0.965)       RGB{N0f8}(0.388,0.42,0.02)  \n",
       " RGB{N0f8}(0.812,0.902,1.0)       RGB{N0f8}(0.318,0.153,0.169)\n",
       " RGB{N0f8}(0.569,0.322,0.4)       RGB{N0f8}(1.0,1.0,0.384)    "
      ]
     },
     "execution_count": 69,
     "metadata": {},
     "output_type": "execute_result"
    }
   ],
   "source": [
    "rand(palette, 5, 5)"
   ]
  },
  {
   "cell_type": "code",
   "execution_count": null,
   "metadata": {},
   "outputs": [],
   "source": []
  }
 ],
 "metadata": {
  "kernelspec": {
   "display_name": "Julia 0.6.4",
   "language": "julia",
   "name": "julia-0.6"
  },
  "language_info": {
   "file_extension": ".jl",
   "mimetype": "application/julia",
   "name": "julia",
   "version": "0.6.4"
  }
 },
 "nbformat": 4,
 "nbformat_minor": 2
}
