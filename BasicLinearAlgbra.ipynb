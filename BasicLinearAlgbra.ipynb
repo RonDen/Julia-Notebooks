{
 "cells": [
  {
   "cell_type": "code",
   "execution_count": 3,
   "metadata": {},
   "outputs": [
    {
     "data": {
      "text/html": [
       "40 methods for generic function <b>rand</b>:<ul><li> rand<i>{T<:Union{Bool, Int128, Int16, Int32, Int64, Int8, UInt128, UInt16, UInt32, UInt64, UInt8}}</i>(rd::<b>RandomDevice</b>, ::<b>Type{T}</b>) at <a href=\"https://github.com/JuliaLang/julia/tree/9d11f62bcb124327831206089967f93020e84200/base/random.jl#L40\" target=\"_blank\">random.jl:40</a></li> <li> rand(rng::<b>RandomDevice</b>, ::<b>Type{Base.Random.Close1Open2}</b>) at <a href=\"https://github.com/JuliaLang/julia/tree/9d11f62bcb124327831206089967f93020e84200/base/random.jl#L66\" target=\"_blank\">random.jl:66</a></li> <li> rand(rng::<b>RandomDevice</b>, ::<b>Type{Base.Random.CloseOpen}</b>) at <a href=\"https://github.com/JuliaLang/julia/tree/9d11f62bcb124327831206089967f93020e84200/base/random.jl#L69\" target=\"_blank\">random.jl:69</a></li> <li> rand<i>{I<:Base.Random.FloatInterval}</i>(r::<b>MersenneTwister</b>, ::<b>Type{I}</b>) at <a href=\"https://github.com/JuliaLang/julia/tree/9d11f62bcb124327831206089967f93020e84200/base/random.jl#L143\" target=\"_blank\">random.jl:143</a></li> <li> rand<i>{T<:Union{Bool, Int16, Int32, Int8, UInt16, UInt32, UInt8}}</i>(r::<b>MersenneTwister</b>, ::<b>Type{T}</b>) at <a href=\"https://github.com/JuliaLang/julia/tree/9d11f62bcb124327831206089967f93020e84200/base/random.jl#L344\" target=\"_blank\">random.jl:344</a></li> <li> rand(r::<b>MersenneTwister</b>, ::<b>Type{UInt64}</b>) at <a href=\"https://github.com/JuliaLang/julia/tree/9d11f62bcb124327831206089967f93020e84200/base/random.jl#L347\" target=\"_blank\">random.jl:347</a></li> <li> rand(r::<b>MersenneTwister</b>, ::<b>Type{UInt128}</b>) at <a href=\"https://github.com/JuliaLang/julia/tree/9d11f62bcb124327831206089967f93020e84200/base/random.jl#L352\" target=\"_blank\">random.jl:352</a></li> <li> rand(r::<b>MersenneTwister</b>, ::<b>Type{Int64}</b>) at <a href=\"https://github.com/JuliaLang/julia/tree/9d11f62bcb124327831206089967f93020e84200/base/random.jl#L358\" target=\"_blank\">random.jl:358</a></li> <li> rand(r::<b>MersenneTwister</b>, ::<b>Type{Int128}</b>) at <a href=\"https://github.com/JuliaLang/julia/tree/9d11f62bcb124327831206089967f93020e84200/base/random.jl#L359\" target=\"_blank\">random.jl:359</a></li> <li> rand(rng::<b>MbedTLS.CtrDrbg</b>, size::<b>Integer</b>) at <a href=\"https://github.com/JuliaWeb/MbedTLS.jl/tree/bb18376b2ff9153b910c4b5add6bef1a714b8335//src/ctr_drbg.jl#L45\" target=\"_blank\">E:\\Documents\\Julia\\pkgs-0.6.4.1\\v0.6\\MbedTLS\\src\\ctr_drbg.jl:45</a></li> <li> rand() at <a href=\"https://github.com/JuliaLang/julia/tree/9d11f62bcb124327831206089967f93020e84200/base/random.jl#L282\" target=\"_blank\">random.jl:282</a></li> <li> rand(T::<b>Type</b>) at <a href=\"https://github.com/JuliaLang/julia/tree/9d11f62bcb124327831206089967f93020e84200/base/random.jl#L283\" target=\"_blank\">random.jl:283</a></li> <li> rand(dims::<b>Tuple{Vararg{Int64,N}} where N</b>) at <a href=\"https://github.com/JuliaLang/julia/tree/9d11f62bcb124327831206089967f93020e84200/base/random.jl#L284\" target=\"_blank\">random.jl:284</a></li> <li> rand(dims::<b>Integer...</b>) at <a href=\"https://github.com/JuliaLang/julia/tree/9d11f62bcb124327831206089967f93020e84200/base/random.jl#L285\" target=\"_blank\">random.jl:285</a></li> <li> rand(T::<b>Type</b>, dims::<b>Tuple{Vararg{Int64,N}} where N</b>) at <a href=\"https://github.com/JuliaLang/julia/tree/9d11f62bcb124327831206089967f93020e84200/base/random.jl#L286\" target=\"_blank\">random.jl:286</a></li> <li> rand(T::<b>Type</b>, d1::<b>Integer</b>, dims::<b>Integer...</b>) at <a href=\"https://github.com/JuliaLang/julia/tree/9d11f62bcb124327831206089967f93020e84200/base/random.jl#L287\" target=\"_blank\">random.jl:287</a></li> <li> rand(r::<b>AbstractArray</b>) at <a href=\"https://github.com/JuliaLang/julia/tree/9d11f62bcb124327831206089967f93020e84200/base/random.jl#L290\" target=\"_blank\">random.jl:290</a></li> <li> rand(r::<b>AbstractArray</b>, dims::<b>Tuple{Vararg{Int64,N}} where N</b>) at <a href=\"https://github.com/JuliaLang/julia/tree/9d11f62bcb124327831206089967f93020e84200/base/random.jl#L315\" target=\"_blank\">random.jl:315</a></li> <li> rand(r::<b>AbstractArray</b>, dims::<b>Integer...</b>) at <a href=\"https://github.com/JuliaLang/julia/tree/9d11f62bcb124327831206089967f93020e84200/base/random.jl#L316\" target=\"_blank\">random.jl:316</a></li> <li> rand(r::<b>Union{MersenneTwister, RandomDevice}</b>, ::<b>Type{Float64}</b>) at <a href=\"https://github.com/JuliaLang/julia/tree/9d11f62bcb124327831206089967f93020e84200/base/random.jl#L323\" target=\"_blank\">random.jl:323</a></li> <li> rand(r::<b>Union{MersenneTwister, RandomDevice}</b>, ::<b>Type{Float16}</b>) at <a href=\"https://github.com/JuliaLang/julia/tree/9d11f62bcb124327831206089967f93020e84200/base/random.jl#L330\" target=\"_blank\">random.jl:330</a></li> <li> rand(r::<b>Union{MersenneTwister, RandomDevice}</b>, ::<b>Type{Float32}</b>) at <a href=\"https://github.com/JuliaLang/julia/tree/9d11f62bcb124327831206089967f93020e84200/base/random.jl#L333\" target=\"_blank\">random.jl:333</a></li> <li> rand(r::<b>AbstractRNG</b>) at <a href=\"https://github.com/JuliaLang/julia/tree/9d11f62bcb124327831206089967f93020e84200/base/random.jl#L320\" target=\"_blank\">random.jl:320</a></li> <li> rand<i>{T<:Real}</i>(r::<b>AbstractRNG</b>, ::<b>Type{Complex{T}}</b>) at <a href=\"https://github.com/JuliaLang/julia/tree/9d11f62bcb124327831206089967f93020e84200/base/random.jl#L363\" target=\"_blank\">random.jl:363</a></li> <li> rand(r::<b>AbstractRNG</b>, ::<b>Type{Char}</b>) at <a href=\"https://github.com/JuliaLang/julia/tree/9d11f62bcb124327831206089967f93020e84200/base/random.jl#L368\" target=\"_blank\">random.jl:368</a></li> <li> rand(r::<b>AbstractRNG</b>, t::<b>Dict</b>) at <a href=\"https://github.com/JuliaLang/julia/tree/9d11f62bcb124327831206089967f93020e84200/base/random.jl#L374\" target=\"_blank\">random.jl:374</a></li> <li> rand(t::<b>Dict</b>) at <a href=\"https://github.com/JuliaLang/julia/tree/9d11f62bcb124327831206089967f93020e84200/base/random.jl#L381\" target=\"_blank\">random.jl:381</a></li> <li> rand(r::<b>AbstractRNG</b>, s::<b>Set</b>) at <a href=\"https://github.com/JuliaLang/julia/tree/9d11f62bcb124327831206089967f93020e84200/base/random.jl#L382\" target=\"_blank\">random.jl:382</a></li> <li> rand(s::<b>Set</b>) at <a href=\"https://github.com/JuliaLang/julia/tree/9d11f62bcb124327831206089967f93020e84200/base/random.jl#L383\" target=\"_blank\">random.jl:383</a></li> <li> rand(r::<b>AbstractRNG</b>, dims::<b>Tuple{Vararg{Int64,N}} where N</b>) at <a href=\"https://github.com/JuliaLang/julia/tree/9d11f62bcb124327831206089967f93020e84200/base/random.jl#L387\" target=\"_blank\">random.jl:387</a></li> <li> rand(r::<b>AbstractRNG</b>, dims::<b>Integer...</b>) at <a href=\"https://github.com/JuliaLang/julia/tree/9d11f62bcb124327831206089967f93020e84200/base/random.jl#L388\" target=\"_blank\">random.jl:388</a></li> <li> rand(r::<b>AbstractRNG</b>, T::<b>Type</b>, dims::<b>Tuple{Vararg{Int64,N}} where N</b>) at <a href=\"https://github.com/JuliaLang/julia/tree/9d11f62bcb124327831206089967f93020e84200/base/random.jl#L390\" target=\"_blank\">random.jl:390</a></li> <li> rand(r::<b>AbstractRNG</b>, T::<b>Type</b>, d1::<b>Integer</b>, dims::<b>Integer...</b>) at <a href=\"https://github.com/JuliaLang/julia/tree/9d11f62bcb124327831206089967f93020e84200/base/random.jl#L391\" target=\"_blank\">random.jl:391</a></li> <li> rand<i>{T<:Union{Int64, UInt64}}</i>(rng::<b>AbstractRNG</b>, g::<b>Base.Random.RangeGeneratorInt{T,UInt64}</b>) at <a href=\"https://github.com/JuliaLang/julia/tree/9d11f62bcb124327831206089967f93020e84200/base/random.jl#L618\" target=\"_blank\">random.jl:618</a></li> <li> rand<i>{T<:Integer, U<:Unsigned}</i>(rng::<b>AbstractRNG</b>, g::<b>Base.Random.RangeGeneratorInt{T,U}</b>) at <a href=\"https://github.com/JuliaLang/julia/tree/9d11f62bcb124327831206089967f93020e84200/base/random.jl#L634\" target=\"_blank\">random.jl:634</a></li> <li> rand(rng::<b>AbstractRNG</b>, g::<b>Base.Random.RangeGeneratorBigInt</b>) at <a href=\"https://github.com/JuliaLang/julia/tree/9d11f62bcb124327831206089967f93020e84200/base/random.jl#L644\" target=\"_blank\">random.jl:644</a></li> <li> rand(rng::<b>AbstractRNG</b>, r::<b>UnitRange{#s268} where #s268<:Union{BigInt, Bool, Signed, Unsigned}</b>) at <a href=\"https://github.com/JuliaLang/julia/tree/9d11f62bcb124327831206089967f93020e84200/base/random.jl#L673\" target=\"_blank\">random.jl:673</a></li> <li> rand(rng::<b>AbstractRNG</b>, r::<b>AbstractArray</b>) at <a href=\"https://github.com/JuliaLang/julia/tree/9d11f62bcb124327831206089967f93020e84200/base/random.jl#L678\" target=\"_blank\">random.jl:678</a></li> <li> rand<i>{T}</i>(rng::<b>AbstractRNG</b>, r::<b>AbstractArray{T,N} where N</b>, dims::<b>Tuple{Vararg{Int64,N}} where N</b>) at <a href=\"https://github.com/JuliaLang/julia/tree/9d11f62bcb124327831206089967f93020e84200/base/random.jl#L697\" target=\"_blank\">random.jl:697</a></li> <li> rand(rng::<b>AbstractRNG</b>, r::<b>AbstractArray</b>, dims::<b>Int64...</b>) at <a href=\"https://github.com/JuliaLang/julia/tree/9d11f62bcb124327831206089967f93020e84200/base/random.jl#L698\" target=\"_blank\">random.jl:698</a></li> </ul>"
      ],
      "text/plain": [
       "# 40 methods for generic function \"rand\":\n",
       "rand(rd::RandomDevice, ::Type{T}) where T<:Union{Bool, Int128, Int16, Int32, Int64, Int8, UInt128, UInt16, UInt32, UInt64, UInt8} in Base.Random at random.jl:40\n",
       "rand(rng::RandomDevice, ::Type{Base.Random.Close1Open2}) in Base.Random at random.jl:66\n",
       "rand(rng::RandomDevice, ::Type{Base.Random.CloseOpen}) in Base.Random at random.jl:69\n",
       "rand(r::MersenneTwister, ::Type{I}) where I<:Base.Random.FloatInterval in Base.Random at random.jl:143\n",
       "rand(r::MersenneTwister, ::Type{T}) where T<:Union{Bool, Int16, Int32, Int8, UInt16, UInt32, UInt8} in Base.Random at random.jl:344\n",
       "rand(r::MersenneTwister, ::Type{UInt64}) in Base.Random at random.jl:347\n",
       "rand(r::MersenneTwister, ::Type{UInt128}) in Base.Random at random.jl:352\n",
       "rand(r::MersenneTwister, ::Type{Int64}) in Base.Random at random.jl:358\n",
       "rand(r::MersenneTwister, ::Type{Int128}) in Base.Random at random.jl:359\n",
       "rand(rng::MbedTLS.CtrDrbg, size::Integer) in MbedTLS at E:\\Documents\\Julia\\pkgs-0.6.4.1\\v0.6\\MbedTLS\\src\\ctr_drbg.jl:45\n",
       "rand() in Base.Random at random.jl:282\n",
       "rand(T::Type) in Base.Random at random.jl:283\n",
       "rand(dims::Tuple{Vararg{Int64,N}} where N) in Base.Random at random.jl:284\n",
       "rand(dims::Integer...) in Base.Random at random.jl:285\n",
       "rand(T::Type, dims::Tuple{Vararg{Int64,N}} where N) in Base.Random at random.jl:286\n",
       "rand(T::Type, d1::Integer, dims::Integer...) in Base.Random at random.jl:287\n",
       "rand(r::AbstractArray) in Base.Random at random.jl:290\n",
       "rand(r::AbstractArray, dims::Tuple{Vararg{Int64,N}} where N) in Base.Random at random.jl:315\n",
       "rand(r::AbstractArray, dims::Integer...) in Base.Random at random.jl:316\n",
       "rand(r::Union{MersenneTwister, RandomDevice}, ::Type{Float64}) in Base.Random at random.jl:323\n",
       "rand(r::Union{MersenneTwister, RandomDevice}, ::Type{Float16}) in Base.Random at random.jl:330\n",
       "rand(r::Union{MersenneTwister, RandomDevice}, ::Type{Float32}) in Base.Random at random.jl:333\n",
       "rand(r::AbstractRNG) in Base.Random at random.jl:320\n",
       "rand(r::AbstractRNG, ::Type{Complex{T}}) where T<:Real in Base.Random at random.jl:363\n",
       "rand(r::AbstractRNG, ::Type{Char}) in Base.Random at random.jl:368\n",
       "rand(r::AbstractRNG, t::Dict) in Base.Random at random.jl:374\n",
       "rand(t::Dict) in Base.Random at random.jl:381\n",
       "rand(r::AbstractRNG, s::Set) in Base.Random at random.jl:382\n",
       "rand(s::Set) in Base.Random at random.jl:383\n",
       "rand(r::AbstractRNG, dims::Tuple{Vararg{Int64,N}} where N) in Base.Random at random.jl:387\n",
       "rand(r::AbstractRNG, dims::Integer...) in Base.Random at random.jl:388\n",
       "rand(r::AbstractRNG, T::Type, dims::Tuple{Vararg{Int64,N}} where N) in Base.Random at random.jl:390\n",
       "rand(r::AbstractRNG, T::Type, d1::Integer, dims::Integer...) in Base.Random at random.jl:391\n",
       "rand(rng::AbstractRNG, g::Base.Random.RangeGeneratorInt{T,UInt64}) where T<:Union{Int64, UInt64} in Base.Random at random.jl:618\n",
       "rand(rng::AbstractRNG, g::Base.Random.RangeGeneratorInt{T,U}) where {T<:Integer, U<:Unsigned} in Base.Random at random.jl:634\n",
       "rand(rng::AbstractRNG, g::Base.Random.RangeGeneratorBigInt) in Base.Random at random.jl:644\n",
       "rand(rng::AbstractRNG, r::UnitRange{#s268} where #s268<:Union{BigInt, Bool, Signed, Unsigned}) in Base.Random at random.jl:673\n",
       "rand(rng::AbstractRNG, r::AbstractArray) in Base.Random at random.jl:678\n",
       "rand(rng::AbstractRNG, r::AbstractArray{T,N} where N, dims::Tuple{Vararg{Int64,N}} where N) where T in Base.Random at random.jl:697\n",
       "rand(rng::AbstractRNG, r::AbstractArray, dims::Int64...) in Base.Random at random.jl:698"
      ]
     },
     "execution_count": 3,
     "metadata": {},
     "output_type": "execute_result"
    }
   ],
   "source": [
    "methods(rand)"
   ]
  },
  {
   "cell_type": "code",
   "execution_count": 4,
   "metadata": {},
   "outputs": [
    {
     "data": {
      "text/plain": [
       "3×3 Array{Int64,2}:\n",
       " 4  2  4\n",
       " 2  2  2\n",
       " 4  2  1"
      ]
     },
     "execution_count": 4,
     "metadata": {},
     "output_type": "execute_result"
    }
   ],
   "source": [
    "A = rand(1:4, 3, 3)"
   ]
  },
  {
   "cell_type": "code",
   "execution_count": 5,
   "metadata": {},
   "outputs": [
    {
     "data": {
      "text/html": [
       "rand(r::<b>AbstractArray</b>, dims::<b>Integer...</b>) at <a href=\"https://github.com/JuliaLang/julia/tree/9d11f62bcb124327831206089967f93020e84200/base/random.jl#L316\" target=\"_blank\">random.jl:316</a>"
      ],
      "text/plain": [
       "rand(r::AbstractArray, dims::Integer...) in Base.Random at random.jl:316"
      ]
     },
     "execution_count": 5,
     "metadata": {},
     "output_type": "execute_result"
    }
   ],
   "source": [
    "@which rand(1:4, 3, 3)"
   ]
  },
  {
   "cell_type": "code",
   "execution_count": 6,
   "metadata": {},
   "outputs": [
    {
     "data": {
      "text/plain": [
       "3×3 Array{Int64,2}:\n",
       " 4  2  4\n",
       " 2  2  2\n",
       " 4  2  1"
      ]
     },
     "execution_count": 6,
     "metadata": {},
     "output_type": "execute_result"
    }
   ],
   "source": [
    "B = A"
   ]
  },
  {
   "cell_type": "code",
   "execution_count": 7,
   "metadata": {},
   "outputs": [
    {
     "data": {
      "text/plain": [
       "3×3 Array{Int64,2}:\n",
       " 4  2  4\n",
       " 2  2  2\n",
       " 4  2  1"
      ]
     },
     "execution_count": 7,
     "metadata": {},
     "output_type": "execute_result"
    }
   ],
   "source": [
    "C = copy(A)"
   ]
  },
  {
   "cell_type": "code",
   "execution_count": 8,
   "metadata": {},
   "outputs": [
    {
     "data": {
      "text/plain": [
       "3×6 Array{Int64,2}:\n",
       " 4  2  4  4  2  4\n",
       " 2  2  2  2  2  2\n",
       " 4  2  1  4  2  1"
      ]
     },
     "execution_count": 8,
     "metadata": {},
     "output_type": "execute_result"
    }
   ],
   "source": [
    "[B C]"
   ]
  },
  {
   "cell_type": "markdown",
   "metadata": {},
   "source": [
    "### Watch this!"
   ]
  },
  {
   "cell_type": "code",
   "execution_count": 9,
   "metadata": {},
   "outputs": [
    {
     "data": {
      "text/plain": [
       "3×6 Array{Int64,2}:\n",
       " 100  2  4  4  2  4\n",
       "   2  2  2  2  2  2\n",
       "   4  2  1  4  2  1"
      ]
     },
     "execution_count": 9,
     "metadata": {},
     "output_type": "execute_result"
    }
   ],
   "source": [
    "A[1]= 100\n",
    "[B C]"
   ]
  },
  {
   "cell_type": "markdown",
   "metadata": {},
   "source": [
    "The copy one will not change the value, but the `=` assigned one will change"
   ]
  },
  {
   "cell_type": "code",
   "execution_count": null,
   "metadata": {},
   "outputs": [],
   "source": []
  }
 ],
 "metadata": {
  "kernelspec": {
   "display_name": "Julia 0.6.4",
   "language": "julia",
   "name": "julia-0.6"
  },
  "language_info": {
   "file_extension": ".jl",
   "mimetype": "application/julia",
   "name": "julia",
   "version": "0.6.4"
  }
 },
 "nbformat": 4,
 "nbformat_minor": 2
}
